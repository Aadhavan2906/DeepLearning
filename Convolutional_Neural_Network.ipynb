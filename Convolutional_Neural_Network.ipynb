{
  "cells": [
    {
      "cell_type": "code",
      "execution_count": 2,
      "metadata": {
        "id": "kpZAxFugHxg4"
      },
      "outputs": [],
      "source": [
        "trainingImgPath = '/content/drive/MyDrive/Face Images/Final Training Images'"
      ]
    },
    {
      "cell_type": "code",
      "execution_count": 1,
      "metadata": {
        "id": "fNaxmxOwJyLX"
      },
      "outputs": [],
      "source": [
        "from keras.preprocessing.image import ImageDataGenerator"
      ]
    },
    {
      "cell_type": "code",
      "execution_count": 3,
      "metadata": {
        "id": "1lGi3L1HKOdd"
      },
      "outputs": [],
      "source": [
        "trainingDataGen = ImageDataGenerator(\n",
        "    shear_range= 0.1,\n",
        "    zoom_range = 0.1,\n",
        "    horizontal_flip= True)"
      ]
    },
    {
      "cell_type": "code",
      "execution_count": 4,
      "metadata": {
        "id": "GiMgw5VvKn0g"
      },
      "outputs": [],
      "source": [
        "testDataGen = ImageDataGenerator()"
      ]
    },
    {
      "cell_type": "code",
      "execution_count": 5,
      "metadata": {
        "colab": {
          "base_uri": "https://localhost:8080/"
        },
        "id": "mvMmeM1qKwZw",
        "outputId": "93eebbce-963c-4ec9-bdb6-570d375a1cca"
      },
      "outputs": [
        {
          "name": "stdout",
          "output_type": "stream",
          "text": [
            "Found 64 images belonging to 16 classes.\n"
          ]
        }
      ],
      "source": [
        "trainingSet = trainingDataGen.flow_from_directory(\n",
        "    trainingImgPath,\n",
        "    target_size = (64, 64),\n",
        "    batch_size=32,\n",
        "    class_mode='categorical'\n",
        ")"
      ]
    },
    {
      "cell_type": "code",
      "execution_count": 6,
      "metadata": {
        "colab": {
          "base_uri": "https://localhost:8080/"
        },
        "id": "4iLYeMvCLLSJ",
        "outputId": "af39c83f-2b2f-41a4-f16d-38a936a6d31f"
      },
      "outputs": [
        {
          "name": "stdout",
          "output_type": "stream",
          "text": [
            "Found 64 images belonging to 16 classes.\n"
          ]
        }
      ],
      "source": [
        "testSet = trainingDataGen.flow_from_directory(\n",
        "    trainingImgPath,\n",
        "    target_size = (64, 64),\n",
        "    batch_size=32,\n",
        "    class_mode='categorical',\n",
        ")"
      ]
    },
    {
      "cell_type": "code",
      "execution_count": 7,
      "metadata": {
        "colab": {
          "base_uri": "https://localhost:8080/"
        },
        "id": "9lUcAdqdLUA3",
        "outputId": "da75a9c2-b452-4c71-aaed-290dea0c6dce"
      },
      "outputs": [
        {
          "data": {
            "text/plain": [
              "{'face1': 0,\n",
              " 'face10': 1,\n",
              " 'face11': 2,\n",
              " 'face12': 3,\n",
              " 'face13': 4,\n",
              " 'face14': 5,\n",
              " 'face15': 6,\n",
              " 'face16': 7,\n",
              " 'face2': 8,\n",
              " 'face3': 9,\n",
              " 'face4': 10,\n",
              " 'face5': 11,\n",
              " 'face6': 12,\n",
              " 'face7': 13,\n",
              " 'face8': 14,\n",
              " 'face9': 15}"
            ]
          },
          "execution_count": 7,
          "metadata": {},
          "output_type": "execute_result"
        }
      ],
      "source": [
        "testSet.class_indices"
      ]
    },
    {
      "cell_type": "code",
      "execution_count": 8,
      "metadata": {
        "id": "QU9muvjhLYpI"
      },
      "outputs": [],
      "source": [
        "trainigClasses = trainingSet.class_indices"
      ]
    },
    {
      "cell_type": "code",
      "execution_count": 10,
      "metadata": {
        "id": "Zk8If5HCLn6O"
      },
      "outputs": [],
      "source": [
        "resultMap ={}\n",
        "for faceValue, faceName in zip(trainigClasses.values(), trainigClasses.keys()):\n",
        "    resultMap[faceValue] = faceName"
      ]
    },
    {
      "cell_type": "code",
      "execution_count": 11,
      "metadata": {
        "id": "dMz0hFgyMGRn"
      },
      "outputs": [],
      "source": [
        "import pickle\n",
        "with open(\"resultsMap.pkl\", 'wb') as fileWriteStream:\n",
        "    pickle.dump(resultMap, fileWriteStream)"
      ]
    },
    {
      "cell_type": "code",
      "execution_count": 14,
      "metadata": {
        "colab": {
          "base_uri": "https://localhost:8080/"
        },
        "id": "5UA_3kXbMuwq",
        "outputId": "a74717ad-e2ff-4524-b6be-194beac4d14d"
      },
      "outputs": [
        {
          "name": "stdout",
          "output_type": "stream",
          "text": [
            "{0: 'face1', 1: 'face10', 2: 'face11', 3: 'face12', 4: 'face13', 5: 'face14', 6: 'face15', 7: 'face16', 8: 'face2', 9: 'face3', 10: 'face4', 11: 'face5', 12: 'face6', 13: 'face7', 14: 'face8', 15: 'face9'}\n"
          ]
        }
      ],
      "source": [
        "print(resultMap)"
      ]
    },
    {
      "cell_type": "code",
      "execution_count": 12,
      "metadata": {
        "id": "VxI7t5MaMfn1"
      },
      "outputs": [],
      "source": [
        "outputNeurons = len (resultMap)"
      ]
    },
    {
      "cell_type": "code",
      "execution_count": 13,
      "metadata": {
        "colab": {
          "base_uri": "https://localhost:8080/"
        },
        "id": "sJfUXziyMkC1",
        "outputId": "d7472df1-f0fc-48d5-9f1e-8c77e874ff1b"
      },
      "outputs": [
        {
          "name": "stdout",
          "output_type": "stream",
          "text": [
            "16\n"
          ]
        }
      ],
      "source": [
        "print(outputNeurons)"
      ]
    },
    {
      "cell_type": "code",
      "execution_count": 15,
      "metadata": {
        "id": "aoUm185VM39C"
      },
      "outputs": [],
      "source": [
        "from keras.models import Sequential\n",
        "from keras.layers import Convolution2D\n",
        "from keras.layers import MaxPool2D\n",
        "from keras.layers import Flatten\n",
        "from keras.layers import Dense"
      ]
    },
    {
      "cell_type": "code",
      "execution_count": 16,
      "metadata": {
        "id": "YgZl8-_PM8Aw"
      },
      "outputs": [],
      "source": [
        "classifier = Sequential()"
      ]
    },
    {
      "cell_type": "code",
      "execution_count": 18,
      "metadata": {
        "id": "rwAEL-P7NLuK"
      },
      "outputs": [],
      "source": [
        "classifier.add(Convolution2D(32, kernel_size=(5,5), strides=(1,1), input_shape=(64,64,3), activation='relu'))"
      ]
    },
    {
      "cell_type": "code",
      "execution_count": 20,
      "metadata": {
        "id": "eaf7kpMpNCtL"
      },
      "outputs": [],
      "source": [
        "classifier.add(MaxPool2D(pool_size = (2,2)))"
      ]
    },
    {
      "cell_type": "code",
      "execution_count": 21,
      "metadata": {
        "id": "0Sm7I9ZUNsiQ"
      },
      "outputs": [],
      "source": [
        "classifier.add(Convolution2D(64, kernel_size=(5,5), strides=(1,1), activation='relu'))"
      ]
    },
    {
      "cell_type": "code",
      "execution_count": 22,
      "metadata": {
        "id": "gxABRK6DNzdt"
      },
      "outputs": [],
      "source": [
        "classifier.add(MaxPool2D(pool_size = (2,2)))"
      ]
    },
    {
      "cell_type": "code",
      "execution_count": 23,
      "metadata": {
        "id": "q4TxFmoKN5wr"
      },
      "outputs": [],
      "source": [
        "classifier.add(Flatten())"
      ]
    },
    {
      "cell_type": "code",
      "execution_count": 24,
      "metadata": {
        "id": "vti5f3yaN-I7"
      },
      "outputs": [],
      "source": [
        "classifier.add(Dense(64, activation = 'relu'))"
      ]
    },
    {
      "cell_type": "code",
      "execution_count": 25,
      "metadata": {
        "id": "tjZK9YVtODEL"
      },
      "outputs": [],
      "source": [
        "classifier.add(Dense(outputNeurons, activation = 'softmax'))"
      ]
    },
    {
      "cell_type": "code",
      "execution_count": 26,
      "metadata": {
        "id": "q5zaFX2ZOLZh"
      },
      "outputs": [],
      "source": [
        "classifier.compile(loss='categorical_crossentropy', optimizer = 'adam', metrics = [\"accuracy\"])"
      ]
    },
    {
      "cell_type": "code",
      "execution_count": 27,
      "metadata": {
        "id": "SpLdPKM9OYib"
      },
      "outputs": [],
      "source": [
        "import time"
      ]
    },
    {
      "cell_type": "code",
      "execution_count": 29,
      "metadata": {
        "id": "bMOIsLX5OcWr"
      },
      "outputs": [],
      "source": [
        "startTime = time.time()"
      ]
    },
    {
      "cell_type": "code",
      "execution_count": 30,
      "metadata": {
        "colab": {
          "base_uri": "https://localhost:8080/"
        },
        "id": "u0oIPjzwOgnD",
        "outputId": "5abc09dc-0c18-4908-fff4-b8116f1ffcce"
      },
      "outputs": [
        {
          "name": "stderr",
          "output_type": "stream",
          "text": [
            "<ipython-input-30-53439c875f94>:1: UserWarning: `Model.fit_generator` is deprecated and will be removed in a future version. Please use `Model.fit`, which supports generators.\n",
            "  classifier.fit_generator(\n"
          ]
        },
        {
          "name": "stdout",
          "output_type": "stream",
          "text": [
            "Epoch 1/10\n",
            " 2/30 [=>............................] - ETA: 10:11 - loss: 209.4193 - accuracy: 0.0938"
          ]
        },
        {
          "name": "stderr",
          "output_type": "stream",
          "text": [
            "WARNING:tensorflow:Your input ran out of data; interrupting training. Make sure that your dataset or generator can generate at least `steps_per_epoch * epochs` batches (in this case, 300 batches). You may need to use the repeat() function when building your dataset.\n",
            "WARNING:tensorflow:Your input ran out of data; interrupting training. Make sure that your dataset or generator can generate at least `steps_per_epoch * epochs` batches (in this case, 10 batches). You may need to use the repeat() function when building your dataset.\n"
          ]
        },
        {
          "name": "stdout",
          "output_type": "stream",
          "text": [
            "\b\b\b\b\b\b\b\b\b\b\b\b\b\b\b\b\b\b\b\b\b\b\b\b\b\b\b\b\b\b\b\b\b\b\b\b\b\b\b\b\b\b\b\b\b\b\b\b\b\b\b\b\b\b\b\b\b\b\b\b\b\b\b\b\b\b\b\b\b\b\b\b\b\b\b\b\b\b\b\b\b\b\b\b\b\b\b\r30/30 [==============================] - 25s 790ms/step - loss: 209.4193 - accuracy: 0.0938 - val_loss: 280.5082 - val_accuracy: 0.0625\n"
          ]
        },
        {
          "data": {
            "text/plain": [
              "<keras.src.callbacks.History at 0x7bd288ff9d50>"
            ]
          },
          "execution_count": 30,
          "metadata": {},
          "output_type": "execute_result"
        }
      ],
      "source": [
        "classifier.fit_generator(\n",
        "    trainingSet,\n",
        "    steps_per_epoch=30,\n",
        "    epochs = 10,\n",
        "    validation_data = testSet,\n",
        "    validation_steps = 10\n",
        ")"
      ]
    },
    {
      "cell_type": "code",
      "execution_count": 31,
      "metadata": {
        "id": "Prm6TM00O3-k"
      },
      "outputs": [],
      "source": [
        "EndTime = time.time()"
      ]
    },
    {
      "cell_type": "code",
      "execution_count": 32,
      "metadata": {
        "id": "8dXxoP5wPBpx"
      },
      "outputs": [],
      "source": [
        "import numpy as np\n",
        "from keras.preprocessing import image"
      ]
    },
    {
      "cell_type": "code",
      "execution_count": 37,
      "metadata": {
        "id": "cNKJY6pePIrx"
      },
      "outputs": [],
      "source": [
        "imgPath = '/content/drive/MyDrive/Face Images/Final Testing Images/face9/1face9.jpg'"
      ]
    },
    {
      "cell_type": "code",
      "execution_count": 38,
      "metadata": {
        "id": "W5oBoD4BPT6_"
      },
      "outputs": [],
      "source": [
        "testImg = image.load_img(imgPath, target_size=(64,64))\n",
        "testImg = image.img_to_array(testImg)\n",
        "testImg = np.expand_dims(testImg, axis=0)"
      ]
    },
    {
      "cell_type": "code",
      "execution_count": 39,
      "metadata": {
        "colab": {
          "base_uri": "https://localhost:8080/"
        },
        "id": "iPX-ibYKPyYd",
        "outputId": "4bc9e55f-3975-4124-c43b-7dcc3e9fa8cf"
      },
      "outputs": [
        {
          "name": "stdout",
          "output_type": "stream",
          "text": [
            "Prediction: face8\n"
          ]
        }
      ],
      "source": [
        "result = classifier.predict(testImg, verbose = 0)\n",
        "print('Prediction:', resultMap[np.argmax(result)])"
      ]
    }
  ],
  "metadata": {
    "colab": {
      "provenance": []
    },
    "kernelspec": {
      "display_name": "Python 3",
      "name": "python3"
    },
    "language_info": {
      "name": "python"
    }
  },
  "nbformat": 4,
  "nbformat_minor": 0
}
